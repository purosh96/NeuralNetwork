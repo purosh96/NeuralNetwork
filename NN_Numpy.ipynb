{
  "nbformat": 4,
  "nbformat_minor": 0,
  "metadata": {
    "colab": {
      "name": "NN_Numpy.ipynb",
      "provenance": [],
      "collapsed_sections": [],
      "authorship_tag": "ABX9TyMoHD/Wvnk4FPN9qNqoFEfY",
      "include_colab_link": true
    },
    "kernelspec": {
      "name": "python3",
      "display_name": "Python 3"
    },
    "language_info": {
      "name": "python"
    }
  },
  "cells": [
    {
      "cell_type": "markdown",
      "metadata": {
        "id": "view-in-github",
        "colab_type": "text"
      },
      "source": [
        "<a href=\"https://colab.research.google.com/github/purosh96/NeuralNetwork/blob/main/NN_Numpy.ipynb\" target=\"_parent\"><img src=\"https://colab.research.google.com/assets/colab-badge.svg\" alt=\"Open In Colab\"/></a>"
      ]
    },
    {
      "cell_type": "code",
      "execution_count": 41,
      "metadata": {
        "id": "zL2gEHw0LdvT"
      },
      "outputs": [],
      "source": [
        "import numpy as np\n",
        "import matplotlib.pyplot as plt"
      ]
    },
    {
      "cell_type": "code",
      "source": [
        "input_feature = np.array([[0,0],[0,1],[1,0],[1,1]])\n",
        "print(input_feature.shape)\n",
        "input_feature"
      ],
      "metadata": {
        "colab": {
          "base_uri": "https://localhost:8080/"
        },
        "id": "RKpMhBV9Lg9G",
        "outputId": "6acc83a3-9b86-486b-8c9f-14ebd9ace349"
      },
      "execution_count": 4,
      "outputs": [
        {
          "output_type": "stream",
          "name": "stdout",
          "text": [
            "(4, 2)\n"
          ]
        },
        {
          "output_type": "execute_result",
          "data": {
            "text/plain": [
              "array([[0, 0],\n",
              "       [0, 1],\n",
              "       [1, 0],\n",
              "       [1, 1]])"
            ]
          },
          "metadata": {},
          "execution_count": 4
        }
      ]
    },
    {
      "cell_type": "code",
      "source": [
        "target_output = np.array([[0],[1],[1],[1]])\n",
        "#target_output = target_output.reshape(4,1)\n",
        "print(target_output.shape)\n",
        "target_output"
      ],
      "metadata": {
        "colab": {
          "base_uri": "https://localhost:8080/"
        },
        "id": "VK5Z9jszMNei",
        "outputId": "93176111-1f61-4c5a-a6a6-c897d9d97895"
      },
      "execution_count": 10,
      "outputs": [
        {
          "output_type": "stream",
          "name": "stdout",
          "text": [
            "(4, 1)\n"
          ]
        },
        {
          "output_type": "execute_result",
          "data": {
            "text/plain": [
              "array([[0],\n",
              "       [1],\n",
              "       [1],\n",
              "       [1]])"
            ]
          },
          "metadata": {},
          "execution_count": 10
        }
      ]
    },
    {
      "cell_type": "code",
      "source": [
        "weights = np.array([[0.2],[0.2]])\n",
        "print(weights.shape)\n",
        "weights\n",
        "\n",
        "lr = 0.05"
      ],
      "metadata": {
        "colab": {
          "base_uri": "https://localhost:8080/"
        },
        "id": "e63b6JGXMaR9",
        "outputId": "25e3bcf1-f7ce-4c42-a497-e5cf185f07f8"
      },
      "execution_count": 22,
      "outputs": [
        {
          "output_type": "stream",
          "name": "stdout",
          "text": [
            "(2, 1)\n"
          ]
        }
      ]
    },
    {
      "cell_type": "code",
      "source": [
        "WS = np.dot(input_feature,weights)\n",
        "WS"
      ],
      "metadata": {
        "colab": {
          "base_uri": "https://localhost:8080/"
        },
        "id": "s5FfkWucM4jR",
        "outputId": "35f1833e-bdcf-4e08-9886-22abef920507"
      },
      "execution_count": 24,
      "outputs": [
        {
          "output_type": "execute_result",
          "data": {
            "text/plain": [
              "array([[0. ],\n",
              "       [0.2],\n",
              "       [0.2],\n",
              "       [0.4]])"
            ]
          },
          "metadata": {},
          "execution_count": 24
        }
      ]
    },
    {
      "cell_type": "code",
      "source": [
        "def sigmoid(x):\n",
        "  return 1/(1+np.exp(-X))\n",
        "sigmoid(WS)"
      ],
      "metadata": {
        "colab": {
          "base_uri": "https://localhost:8080/"
        },
        "id": "BHBolGTYNdWY",
        "outputId": "b073485e-ea7e-4f17-824d-cb160ca7d441"
      },
      "execution_count": 29,
      "outputs": [
        {
          "output_type": "execute_result",
          "data": {
            "text/plain": [
              "array([[0.5       ],\n",
              "       [0.549834  ],\n",
              "       [0.549834  ],\n",
              "       [0.59868766]])"
            ]
          },
          "metadata": {},
          "execution_count": 29
        }
      ]
    },
    {
      "cell_type": "code",
      "source": [
        "def sigmoid_der(x):\n",
        "  return sigmoid(x)*(1-sigmoid(x))"
      ],
      "metadata": {
        "id": "LO5GtfvoRRLZ"
      },
      "execution_count": 31,
      "outputs": []
    },
    {
      "cell_type": "code",
      "source": [
        "for epoch in range(5):\n",
        "  print(\"\\nEpoch \\n\",epoch)\n",
        "  inputs = input_feature\n",
        "  print(\"\\nX \\n\", inputs)\n",
        "  print(\"\\nW \\n\", weights)\n",
        "  pred_in = np.dot(inputs,weights)\n",
        "  print(\"\\nY dot \\n\",pred_in)\n",
        "  y_pred = sigmoid(pred_in)\n",
        "  print(\"\\nY Pred \\n\",y_pred)\n",
        "  error = (1/2)*pow(target_output-y_pred,2)\n",
        "  print(\"\\nError \\n\",error)\n",
        "\n",
        "  x= error.sum()\n",
        "  print(\"\\nTotal Error \\n\",x)\n",
        "\n",
        "  dcost_dpred = (y_pred - target_output)\n",
        "  dped_dz = sigmoid_der(y_pred)\n",
        "  z_delta = dcost_dpred * dped_dz\n",
        "\n",
        "  input = input_feature.T\n",
        "  weights = weights - lr*np.dot(input,z_delta)\n",
        "plt.plot(error)\n",
        "  "
      ],
      "metadata": {
        "colab": {
          "base_uri": "https://localhost:8080/",
          "height": 1000
        },
        "id": "A5pI5cEXN9Fx",
        "outputId": "d6f42883-1153-4ee1-afd9-d3807ae83f1b"
      },
      "execution_count": 44,
      "outputs": [
        {
          "output_type": "stream",
          "name": "stdout",
          "text": [
            "\n",
            "Epoch \n",
            " 0\n",
            "\n",
            "X \n",
            " [[0 0]\n",
            " [0 1]\n",
            " [1 0]\n",
            " [1 1]]\n",
            "\n",
            "W \n",
            " [[0.22078431]\n",
            " [0.22078431]]\n",
            "\n",
            "Y dot \n",
            " [[0.        ]\n",
            " [0.22078431]\n",
            " [0.22078431]\n",
            " [0.44156863]]\n",
            "\n",
            "Y Pred \n",
            " [[0.5       ]\n",
            " [0.549834  ]\n",
            " [0.549834  ]\n",
            " [0.59868766]]\n",
            "\n",
            "Error \n",
            " [[0.125     ]\n",
            " [0.10132471]\n",
            " [0.10132471]\n",
            " [0.0805258 ]]\n",
            "\n",
            "Total Error \n",
            " 0.40817522704867154\n",
            "\n",
            "Epoch \n",
            " 1\n",
            "\n",
            "X \n",
            " [[0 0]\n",
            " [0 1]\n",
            " [1 0]\n",
            " [1 1]]\n",
            "\n",
            "W \n",
            " [[0.23117647]\n",
            " [0.23117647]]\n",
            "\n",
            "Y dot \n",
            " [[0.        ]\n",
            " [0.23117647]\n",
            " [0.23117647]\n",
            " [0.46235294]]\n",
            "\n",
            "Y Pred \n",
            " [[0.5       ]\n",
            " [0.549834  ]\n",
            " [0.549834  ]\n",
            " [0.59868766]]\n",
            "\n",
            "Error \n",
            " [[0.125     ]\n",
            " [0.10132471]\n",
            " [0.10132471]\n",
            " [0.0805258 ]]\n",
            "\n",
            "Total Error \n",
            " 0.40817522704867154\n",
            "\n",
            "Epoch \n",
            " 2\n",
            "\n",
            "X \n",
            " [[0 0]\n",
            " [0 1]\n",
            " [1 0]\n",
            " [1 1]]\n",
            "\n",
            "W \n",
            " [[0.24156863]\n",
            " [0.24156863]]\n",
            "\n",
            "Y dot \n",
            " [[0.        ]\n",
            " [0.24156863]\n",
            " [0.24156863]\n",
            " [0.48313726]]\n",
            "\n",
            "Y Pred \n",
            " [[0.5       ]\n",
            " [0.549834  ]\n",
            " [0.549834  ]\n",
            " [0.59868766]]\n",
            "\n",
            "Error \n",
            " [[0.125     ]\n",
            " [0.10132471]\n",
            " [0.10132471]\n",
            " [0.0805258 ]]\n",
            "\n",
            "Total Error \n",
            " 0.40817522704867154\n",
            "\n",
            "Epoch \n",
            " 3\n",
            "\n",
            "X \n",
            " [[0 0]\n",
            " [0 1]\n",
            " [1 0]\n",
            " [1 1]]\n",
            "\n",
            "W \n",
            " [[0.25196079]\n",
            " [0.25196079]]\n",
            "\n",
            "Y dot \n",
            " [[0.        ]\n",
            " [0.25196079]\n",
            " [0.25196079]\n",
            " [0.50392157]]\n",
            "\n",
            "Y Pred \n",
            " [[0.5       ]\n",
            " [0.549834  ]\n",
            " [0.549834  ]\n",
            " [0.59868766]]\n",
            "\n",
            "Error \n",
            " [[0.125     ]\n",
            " [0.10132471]\n",
            " [0.10132471]\n",
            " [0.0805258 ]]\n",
            "\n",
            "Total Error \n",
            " 0.40817522704867154\n",
            "\n",
            "Epoch \n",
            " 4\n",
            "\n",
            "X \n",
            " [[0 0]\n",
            " [0 1]\n",
            " [1 0]\n",
            " [1 1]]\n",
            "\n",
            "W \n",
            " [[0.26235294]\n",
            " [0.26235294]]\n",
            "\n",
            "Y dot \n",
            " [[0.        ]\n",
            " [0.26235294]\n",
            " [0.26235294]\n",
            " [0.52470589]]\n",
            "\n",
            "Y Pred \n",
            " [[0.5       ]\n",
            " [0.549834  ]\n",
            " [0.549834  ]\n",
            " [0.59868766]]\n",
            "\n",
            "Error \n",
            " [[0.125     ]\n",
            " [0.10132471]\n",
            " [0.10132471]\n",
            " [0.0805258 ]]\n",
            "\n",
            "Total Error \n",
            " 0.40817522704867154\n"
          ]
        },
        {
          "output_type": "execute_result",
          "data": {
            "text/plain": [
              "[<matplotlib.lines.Line2D at 0x7f46529507d0>]"
            ]
          },
          "metadata": {},
          "execution_count": 44
        },
        {
          "output_type": "display_data",
          "data": {
            "image/png": "[encoded data removed]",
            "text/plain": [
              "<Figure size 432x288 with 1 Axes>"
            ]
          },
          "metadata": {
            "needs_background": "light"
          }
        }
      ]
    },
    {
      "cell_type": "code",
      "source": [
        ""
      ],
      "metadata": {
        "id": "gl8GHCskRcOM"
      },
      "execution_count": null,
      "outputs": []
    }
  ]
}